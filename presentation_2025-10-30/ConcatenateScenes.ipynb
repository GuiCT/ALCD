{
 "cells": [
  {
   "cell_type": "code",
   "execution_count": 1,
   "id": "5b8c16ef",
   "metadata": {},
   "outputs": [],
   "source": [
    "import json"
   ]
  },
  {
   "cell_type": "code",
   "execution_count": null,
   "id": "1a8d101a",
   "metadata": {},
   "outputs": [],
   "source": [
    "with open(\"./slides.txt\", 'r') as f:\n",
    "    slides = f.read().split(\"\\n\")"
   ]
  },
  {
   "cell_type": "code",
   "execution_count": null,
   "id": "5e48420b",
   "metadata": {},
   "outputs": [],
   "source": [
    "with open(f\"./slides/{slides[0]}.json\", 'r') as first:\n",
    "    json_dict = json.loads(first.read())"
   ]
  },
  {
   "cell_type": "code",
   "execution_count": null,
   "id": "ea166887",
   "metadata": {},
   "outputs": [],
   "source": [
    "for i in range(1, len(slides)):\n",
    "    with open(f\"./slides/{slides[i]}.json\", 'r') as s:\n",
    "        new_dict = json.loads(s.read())\n",
    "    json_dict[\"slides\"].extend(new_dict[\"slides\"])"
   ]
  },
  {
   "cell_type": "code",
   "execution_count": null,
   "id": "2b04b7b2",
   "metadata": {},
   "outputs": [],
   "source": [
    "with open(\"./slides/Merged.json\", 'w') as f:\n",
    "    json.dump(json_dict, f, indent=4)"
   ]
  }
 ],
 "metadata": {
  "kernelspec": {
   "display_name": "alcd",
   "language": "python",
   "name": "python3"
  },
  "language_info": {
   "codemirror_mode": {
    "name": "ipython",
    "version": 3
   },
   "file_extension": ".py",
   "mimetype": "text/x-python",
   "name": "python",
   "nbconvert_exporter": "python",
   "pygments_lexer": "ipython3",
   "version": "3.13.2"
  }
 },
 "nbformat": 4,
 "nbformat_minor": 5
}
