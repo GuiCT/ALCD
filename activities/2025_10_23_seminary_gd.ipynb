{
 "cells": [
  {
   "cell_type": "code",
   "execution_count": null,
   "metadata": {},
   "outputs": [],
   "source": [
    "import numpy as np"
   ]
  },
  {
   "cell_type": "code",
   "execution_count": null,
   "metadata": {},
   "outputs": [],
   "source": [
    "def f(theta):\n",
    "    x, y = theta\n",
    "    return np.array([\n",
    "        x ** 2 + 2 * y ** 2,\n",
    "        x ** 2 + 10 * y ** 2,\n",
    "        np.sin(x) * np.sin(y)\n",
    "    ])"
   ]
  },
  {
   "cell_type": "code",
   "execution_count": null,
   "metadata": {},
   "outputs": [],
   "source": [
    "def jacob(theta):\n",
    "    return np.array([\n",
    "        [2 * theta[0, 0], 4 * theta[0, 1]],\n",
    "        [2 * theta[1, 0], 20 * theta[1, 1]],\n",
    "        [np.sin(theta[2, 1]) * np.cos(theta[2, 0]), np.sin(theta[2, 0]) * np.cos(theta[2, 1])]\n",
    "    ])"
   ]
  },
  {
   "cell_type": "code",
   "execution_count": null,
   "metadata": {},
   "outputs": [],
   "source": [
    "alpha = 0.1\n",
    "theta_0 = np.array([1.0, 2.0])\n",
    "theta_0 = np.vstack([theta_0] * 3)"
   ]
  },
  {
   "cell_type": "code",
   "execution_count": null,
   "metadata": {},
   "outputs": [],
   "source": [
    "theta_hist = list[np.array]()\n",
    "theta_hist.append(theta_0)\n",
    "for i in range(100):\n",
    "    new_theta = theta_hist[-1] - alpha * jacob(theta_hist[-1])\n",
    "    theta_hist.append(new_theta)"
   ]
  }
 ],
 "metadata": {
  "kernelspec": {
   "display_name": ".venv",
   "language": "python",
   "name": "python3"
  },
  "language_info": {
   "codemirror_mode": {
    "name": "ipython",
    "version": 3
   },
   "file_extension": ".py",
   "mimetype": "text/x-python",
   "name": "python",
   "nbconvert_exporter": "python",
   "pygments_lexer": "ipython3",
   "version": "3.13.7"
  }
 },
 "nbformat": 4,
 "nbformat_minor": 2
}
