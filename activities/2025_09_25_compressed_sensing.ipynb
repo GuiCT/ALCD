{
 "cells": [
  {
   "cell_type": "markdown",
   "metadata": {},
   "source": [
    "# Replicando exemplo da Seção 3.3"
   ]
  },
  {
   "cell_type": "code",
   "execution_count": 47,
   "metadata": {},
   "outputs": [],
   "source": [
    "import numpy as np\n",
    "from scipy.optimize import minimize"
   ]
  },
  {
   "cell_type": "code",
   "execution_count": 48,
   "metadata": {},
   "outputs": [],
   "source": [
    "# Solve y = Theta * s for \"s\"\n",
    "n = 1000 # dimension of s\n",
    "p = 200 # number of measurements, dim(y)\n",
    "Theta = np.random.randn(p,n)\n",
    "y = np.random.randn(p)"
   ]
  },
  {
   "cell_type": "code",
   "execution_count": 49,
   "metadata": {},
   "outputs": [],
   "source": [
    "l1_norm = lambda x: np.linalg.norm(x, ord=1)"
   ]
  },
  {
   "cell_type": "code",
   "execution_count": 50,
   "metadata": {},
   "outputs": [],
   "source": [
    "constr = ({\n",
    "    \"type\": \"eq\",\n",
    "    \"fun\": lambda x: Theta @ x - y\n",
    "})\n",
    "s_l2 = np.linalg.pinv(Theta) @ y\n",
    "x0 = np.random.rand(*s_l2.shape)\n",
    "res = minimize(l1_norm, x0, method=\"SLSQP\", constraints=constr)\n",
    "s_l1 = res.x"
   ]
  },
  {
   "cell_type": "code",
   "execution_count": 51,
   "metadata": {},
   "outputs": [
    {
     "data": {
      "text/plain": [
       "     message: Iteration limit reached\n",
       "     success: False\n",
       "      status: 9\n",
       "         fun: 14.765784673062022\n",
       "           x: [ 1.655e-03  8.323e-04 ... -2.678e-02 -2.222e-03]\n",
       "         nit: 100\n",
       "         jac: [ 1.000e+00  1.000e+00 ... -1.000e+00 -1.000e+00]\n",
       "        nfev: 101427\n",
       "        njev: 101\n",
       " multipliers: [ 2.766e-02 -4.881e-02 ... -1.640e-02 -4.575e-02]"
      ]
     },
     "execution_count": 51,
     "metadata": {},
     "output_type": "execute_result"
    }
   ],
   "source": [
    "res"
   ]
  },
  {
   "cell_type": "markdown",
   "metadata": {},
   "source": [
    "Como o método não converge (o que é esperado), aplicamos um _threshold_ para calcular a esparsidade da matriz resultante."
   ]
  },
  {
   "cell_type": "code",
   "execution_count": 52,
   "metadata": {},
   "outputs": [],
   "source": [
    "THRESHOLDS = [\n",
    "    1.0e-5,\n",
    "    5.0e-5,\n",
    "    1.0e-4,\n",
    "    5.0e-4,\n",
    "    1.0e-3,\n",
    "    5.0e-3,\n",
    "    1.0e-2,\n",
    "    5.0e-2,\n",
    "]"
   ]
  },
  {
   "cell_type": "code",
   "execution_count": 53,
   "metadata": {},
   "outputs": [
    {
     "name": "stdout",
     "output_type": "stream",
     "text": [
      "Threshold = 1e-05\n",
      "Elementos zerados: 994; Esparsidade: 0.60%\n",
      "Threshold = 5e-05\n",
      "Elementos zerados: 976; Esparsidade: 2.40%\n",
      "Threshold = 0.0001\n",
      "Elementos zerados: 954; Esparsidade: 4.60%\n",
      "Threshold = 0.0005\n",
      "Elementos zerados: 790; Esparsidade: 21.00%\n",
      "Threshold = 0.001\n",
      "Elementos zerados: 649; Esparsidade: 35.10%\n",
      "Threshold = 0.005\n",
      "Elementos zerados: 419; Esparsidade: 58.10%\n",
      "Threshold = 0.01\n",
      "Elementos zerados: 318; Esparsidade: 68.20%\n",
      "Threshold = 0.05\n",
      "Elementos zerados: 84; Esparsidade: 91.60%\n"
     ]
    }
   ],
   "source": [
    "for t in THRESHOLDS:\n",
    "    s_l1_thresholded = s_l1.copy()\n",
    "    s_l1_thresholded[np.abs(s_l1_thresholded) <= t] = 0.0\n",
    "    total_elem = s_l1_thresholded.size\n",
    "    nz_elem = np.count_nonzero(s_l1_thresholded)\n",
    "    z_elem = total_elem - nz_elem\n",
    "    sp = z_elem / total_elem\n",
    "    print(f\"Threshold = {t}\")\n",
    "    print(f\"Elementos zerados: {nz_elem}; Esparsidade: {sp * 100:.2f}%\")"
   ]
  }
 ],
 "metadata": {
  "kernelspec": {
   "display_name": "alcd",
   "language": "python",
   "name": "python3"
  },
  "language_info": {
   "codemirror_mode": {
    "name": "ipython",
    "version": 3
   },
   "file_extension": ".py",
   "mimetype": "text/x-python",
   "name": "python",
   "nbconvert_exporter": "python",
   "pygments_lexer": "ipython3",
   "version": "3.13.7"
  }
 },
 "nbformat": 4,
 "nbformat_minor": 2
}
