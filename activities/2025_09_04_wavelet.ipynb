{
 "cells": [
  {
   "cell_type": "code",
   "execution_count": 1,
   "id": "702357d6",
   "metadata": {},
   "outputs": [
    {
     "name": "stderr",
     "output_type": "stream",
     "text": [
      "e:\\Repositories\\alcd\\.venv\\Lib\\site-packages\\pydub\\utils.py:300: SyntaxWarning: invalid escape sequence '\\('\n",
      "  m = re.match('([su]([0-9]{1,2})p?) \\(([0-9]{1,2}) bit\\)$', token)\n",
      "e:\\Repositories\\alcd\\.venv\\Lib\\site-packages\\pydub\\utils.py:301: SyntaxWarning: invalid escape sequence '\\('\n",
      "  m2 = re.match('([su]([0-9]{1,2})p?)( \\(default\\))?$', token)\n",
      "e:\\Repositories\\alcd\\.venv\\Lib\\site-packages\\pydub\\utils.py:310: SyntaxWarning: invalid escape sequence '\\('\n",
      "  elif re.match('(flt)p?( \\(default\\))?$', token):\n",
      "e:\\Repositories\\alcd\\.venv\\Lib\\site-packages\\pydub\\utils.py:314: SyntaxWarning: invalid escape sequence '\\('\n",
      "  elif re.match('(dbl)p?( \\(default\\))?$', token):\n"
     ]
    }
   ],
   "source": [
    "import pathlib\n",
    "\n",
    "import matplotlib.pyplot as plt\n",
    "import numpy as np\n",
    "from pydub import AudioSegment\n",
    "import pywt"
   ]
  },
  {
   "cell_type": "markdown",
   "id": "2ba1603a",
   "metadata": {},
   "source": [
    "# Carregamento do arquivo"
   ]
  },
  {
   "cell_type": "code",
   "execution_count": 2,
   "id": "9243b9fa",
   "metadata": {},
   "outputs": [],
   "source": [
    "def load_mp3(filepath: pathlib.Path | str):\n",
    "    audio = AudioSegment.from_mp3(filepath)\n",
    "    y = np.array(audio.get_array_of_samples())\n",
    "    return y, audio.frame_rate"
   ]
  },
  {
   "cell_type": "code",
   "execution_count": 7,
   "id": "c139fe8d",
   "metadata": {},
   "outputs": [],
   "source": [
    "file_name = \"c_major_scale\"\n",
    "original_file = pathlib.Path(f\"../resources/{file_name}.mp3\")"
   ]
  },
  {
   "cell_type": "code",
   "execution_count": 8,
   "id": "850f356b",
   "metadata": {},
   "outputs": [],
   "source": [
    "audio, sampling_rate = load_mp3(original_file)"
   ]
  },
  {
   "cell_type": "markdown",
   "id": "245571cc",
   "metadata": {},
   "source": [
    "# Aplicação de ruído"
   ]
  },
  {
   "cell_type": "code",
   "execution_count": 23,
   "id": "ca503f26",
   "metadata": {},
   "outputs": [],
   "source": [
    "noise_scale = 0.001 * 32768\n",
    "noise = np.random.normal(0, noise_scale, audio.shape)\n",
    "noisy_audio = audio + noise\n",
    "noisy_audio = noisy_audio.astype(np.int16)"
   ]
  },
  {
   "cell_type": "code",
   "execution_count": 24,
   "id": "297c3ea1",
   "metadata": {},
   "outputs": [
    {
     "data": {
      "text/plain": [
       "<_io.BufferedRandom name='..\\\\results\\\\noisy_c_major_scale.mp3'>"
      ]
     },
     "execution_count": 24,
     "metadata": {},
     "output_type": "execute_result"
    }
   ],
   "source": [
    "# Salvando para comparação futura\n",
    "noisy_audio_path = pathlib.Path(f\"../results/noisy_{file_name}.mp3\")\n",
    "AudioSegment(noisy_audio.tobytes(), frame_rate=sampling_rate, sample_width=noisy_audio.dtype.itemsize, channels=2).export(noisy_audio_path, format=\"mp3\")"
   ]
  },
  {
   "cell_type": "markdown",
   "id": "0a1beb5c",
   "metadata": {},
   "source": [
    "# Aplicação de algoritmos de _denoising_"
   ]
  },
  {
   "cell_type": "code",
   "execution_count": 25,
   "id": "3b2ed592",
   "metadata": {},
   "outputs": [],
   "source": [
    "n = 2\n",
    "w = \"haar\"\n",
    "noisy_audio_normalized = noisy_audio.astype(np.float64) / 32768.0"
   ]
  },
  {
   "cell_type": "code",
   "execution_count": 26,
   "id": "bfcadd98",
   "metadata": {},
   "outputs": [
    {
     "data": {
      "text/plain": [
       "<_io.BufferedRandom name='denoised_scale.mp3'>"
      ]
     },
     "execution_count": 26,
     "metadata": {},
     "output_type": "execute_result"
    }
   ],
   "source": [
    "# Aplicação da Transformada Discreta da Wavelet (DWT)\n",
    "coeffs = pywt.wavedec(noisy_audio_normalized, w, level=n)\n",
    "# Definição de limiar para o encolhimento dos coeficientes\n",
    "threshold = 0.04\n",
    "coeffs_thresholded = [pywt.threshold(c, threshold, mode='soft') for c in coeffs]\n",
    "# Reconstrução do sinal sem ruído\n",
    "denoised_audio = pywt.waverec(coeffs_thresholded, w)\n",
    "denoised_audio = np.clip(denoised_audio * 32768, -32768, 32767).astype(np.int16)\n",
    "# Salvando para comparação futura\n",
    "AudioSegment(denoised_audio.tobytes(), frame_rate=sampling_rate, sample_width=denoised_audio.dtype.itemsize, channels=2).export(\"denoised_scale.mp3\", format=\"mp3\")"
   ]
  },
  {
   "cell_type": "markdown",
   "id": "3c5a054e",
   "metadata": {},
   "source": []
  }
 ],
 "metadata": {
  "kernelspec": {
   "display_name": "alcd",
   "language": "python",
   "name": "python3"
  },
  "language_info": {
   "codemirror_mode": {
    "name": "ipython",
    "version": 3
   },
   "file_extension": ".py",
   "mimetype": "text/x-python",
   "name": "python",
   "nbconvert_exporter": "python",
   "pygments_lexer": "ipython3",
   "version": "3.13.2"
  }
 },
 "nbformat": 4,
 "nbformat_minor": 5
}
