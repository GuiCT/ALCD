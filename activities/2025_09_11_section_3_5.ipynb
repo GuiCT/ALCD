{
 "cells": [
  {
   "cell_type": "code",
   "execution_count": 2,
   "id": "93e75937",
   "metadata": {},
   "outputs": [],
   "source": [
    "import numpy as np\n",
    "from scipy.optimize import minimize"
   ]
  },
  {
   "cell_type": "markdown",
   "id": "7ea93ac1",
   "metadata": {},
   "source": [
    "Replicando código 3.4, formatado."
   ]
  },
  {
   "cell_type": "code",
   "execution_count": 9,
   "id": "2f86bea3",
   "metadata": {},
   "outputs": [],
   "source": [
    "x = np.sort(4 * (np.random.rand(25, 1) - 0.5), axis=0)\n",
    "# data\n",
    "b = 0.9 * x + 0.1 * np.random.randn(len(x), 1)\n",
    "# Noisy line y=ax\n",
    "atrue = np.linalg.lstsq(x, b, rcond=None)[0]\n",
    "# Least-squares a\n",
    "b[-1] = -5.5\n",
    "# Introduce outlier\n",
    "acorrupt = np.linalg.lstsq(x, b, rcond=None)[0][0]\n",
    "# New slope\n",
    "# L1 optimization to reject outlier\n",
    "\n",
    "\n",
    "def L1_norm(a):\n",
    "    return np.linalg.norm(a*x-b, ord=1)\n",
    "\n",
    "\n",
    "a0 = acorrupt\n",
    "# initialize to L2 solution\n",
    "res = minimize(L1_norm, a0)\n",
    "aL1 = res.x[0]\n",
    "# aL1 is robust"
   ]
  },
  {
   "cell_type": "markdown",
   "id": "f556a3e3",
   "metadata": {},
   "source": [
    "Ao compararmos `aL1` com o coeficiente angular utilizado para gerar os dados (0.9):\n",
    "\n",
    "$|a_{L1} - 0.9|$"
   ]
  },
  {
   "cell_type": "code",
   "execution_count": 15,
   "id": "d5b7c909",
   "metadata": {},
   "outputs": [
    {
     "name": "stdout",
     "output_type": "stream",
     "text": [
      "0.019112770772081178\n"
     ]
    }
   ],
   "source": [
    "print(np.abs(aL1 - 0.9))"
   ]
  }
 ],
 "metadata": {
  "kernelspec": {
   "display_name": "alcd",
   "language": "python",
   "name": "python3"
  },
  "language_info": {
   "codemirror_mode": {
    "name": "ipython",
    "version": 3
   },
   "file_extension": ".py",
   "mimetype": "text/x-python",
   "name": "python",
   "nbconvert_exporter": "python",
   "pygments_lexer": "ipython3",
   "version": "3.13.2"
  }
 },
 "nbformat": 4,
 "nbformat_minor": 5
}
