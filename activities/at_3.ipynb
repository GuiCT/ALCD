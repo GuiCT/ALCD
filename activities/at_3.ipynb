{
 "cells": [
  {
   "cell_type": "code",
   "execution_count": 23,
   "metadata": {},
   "outputs": [],
   "source": [
    "from typing import SupportsFloat\n",
    "\n",
    "import numpy as np\n",
    "import numpy.typing as npt"
   ]
  },
  {
   "cell_type": "markdown",
   "metadata": {},
   "source": [
    "# Hiperparâmetros"
   ]
  },
  {
   "cell_type": "code",
   "execution_count": 21,
   "metadata": {},
   "outputs": [],
   "source": [
    "# Valores de n utilizados\n",
    "TESTED_N = [4, 6, 8, 10]"
   ]
  },
  {
   "cell_type": "markdown",
   "metadata": {},
   "source": [
    "# Geração de matrizes"
   ]
  },
  {
   "cell_type": "code",
   "execution_count": 18,
   "metadata": {},
   "outputs": [],
   "source": [
    "def generate_pascal(n: int) -> npt.NDArray:\n",
    "    mat = np.zeros((n, n))\n",
    "    for i in range(n):\n",
    "        mat[0, i] = 1\n",
    "        mat[i, 0] = 1\n",
    "    for i in range(1, n):\n",
    "        for j in range(1, n):\n",
    "            mat[i, j] = mat[i - 1, j] + mat[i, j - 1]\n",
    "    return mat"
   ]
  },
  {
   "cell_type": "code",
   "execution_count": 20,
   "metadata": {},
   "outputs": [
    {
     "data": {
      "text/plain": [
       "array([[  1.,   1.,   1.,   1.,   1.,   1.],\n",
       "       [  1.,   2.,   3.,   4.,   5.,   6.],\n",
       "       [  1.,   3.,   6.,  10.,  15.,  21.],\n",
       "       [  1.,   4.,  10.,  20.,  35.,  56.],\n",
       "       [  1.,   5.,  15.,  35.,  70., 126.],\n",
       "       [  1.,   6.,  21.,  56., 126., 252.]])"
      ]
     },
     "execution_count": 20,
     "metadata": {},
     "output_type": "execute_result"
    }
   ],
   "source": [
    "generate_pascal(6)"
   ]
  },
  {
   "cell_type": "code",
   "execution_count": 22,
   "metadata": {},
   "outputs": [],
   "source": [
    "pascal_matrices = {n: generate_pascal(n) for n in TESTED_N}"
   ]
  },
  {
   "cell_type": "markdown",
   "metadata": {},
   "source": [
    "# Funções de erro"
   ]
  },
  {
   "cell_type": "code",
   "execution_count": 24,
   "metadata": {},
   "outputs": [],
   "source": [
    "def residual(original_matrix: npt.NDArray, algo_result: npt.NDArray) -> SupportsFloat:\n",
    "    n = original_matrix.shape[0]\n",
    "    og_norm = np.linalg.matrix_norm(original_matrix)\n",
    "    algo_norm = np.linalg.matrix_norm(algo_result)\n",
    "    mat_prod = algo_result @ original_matrix\n",
    "    diff_id_norm = np.linalg.norm(mat_prod - np.identity(n))\n",
    "    return diff_id_norm/(og_norm * algo_norm)"
   ]
  },
  {
   "cell_type": "markdown",
   "metadata": {},
   "source": [
    "# Cholesky"
   ]
  },
  {
   "cell_type": "code",
   "execution_count": null,
   "metadata": {},
   "outputs": [],
   "source": []
  },
  {
   "cell_type": "markdown",
   "metadata": {},
   "source": [
    "# QR"
   ]
  },
  {
   "cell_type": "code",
   "execution_count": null,
   "metadata": {},
   "outputs": [],
   "source": []
  },
  {
   "cell_type": "markdown",
   "metadata": {},
   "source": [
    "# SVD"
   ]
  },
  {
   "cell_type": "code",
   "execution_count": null,
   "metadata": {},
   "outputs": [],
   "source": []
  }
 ],
 "metadata": {
  "kernelspec": {
   "display_name": "ALCD",
   "language": "python",
   "name": "python3"
  },
  "language_info": {
   "codemirror_mode": {
    "name": "ipython",
    "version": 3
   },
   "file_extension": ".py",
   "mimetype": "text/x-python",
   "name": "python",
   "nbconvert_exporter": "python",
   "pygments_lexer": "ipython3",
   "version": "3.13.5"
  }
 },
 "nbformat": 4,
 "nbformat_minor": 2
}
